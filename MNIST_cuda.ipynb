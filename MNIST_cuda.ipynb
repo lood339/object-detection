{
 "cells": [
  {
   "cell_type": "code",
   "execution_count": 14,
   "metadata": {},
   "outputs": [],
   "source": [
    "#things to be import\n",
    "\n",
    "import torch\n",
    "import torch.nn as nn\n",
    "import torch.nn.functional as func\n",
    "import torch.autograd as atgd\n",
    "import torch.optim as optim\n",
    "import torchvision\n",
    "import torchvision.transforms as transforms\n",
    "import matplotlib.pyplot as plt\n",
    "import numpy as np"
   ]
  },
  {
   "cell_type": "code",
   "execution_count": 15,
   "metadata": {},
   "outputs": [
    {
     "name": "stdout",
     "output_type": "stream",
     "text": [
      "The number of training images:  10000\n",
      "The number of testing images:  10000\n",
      "Data load OK!\n"
     ]
    }
   ],
   "source": [
    "#loading training and testing data\n",
    "\n",
    "batchsize = 16\n",
    "Trainsize = 10000\n",
    "Testsize = 10000\n",
    "\n",
    "transform = transforms.Compose(\n",
    "    [\n",
    "    transforms.Resize((32,32)),    \n",
    "    transforms.ToTensor(),\n",
    "    ])\n",
    "\n",
    "train_dataset = torchvision.datasets.MNIST(root = './data/mnist', \n",
    "                           train = True, \n",
    "                           transform = transform,\n",
    "                           download = True) \n",
    "test_dataset = torchvision.datasets.MNIST(root = './data/mnist',\n",
    "                           train = False,\n",
    "                           transform = transform,\n",
    "                           download = True)\n",
    "\n",
    "train_loader = torch.utils.data.DataLoader(train_dataset, batch_size=batchsize,\n",
    "                                          shuffle=True, num_workers=1)\n",
    "test_loader = torch.utils.data.DataLoader(test_dataset, batch_size=batchsize,\n",
    "                                          shuffle=True, num_workers=1)\n",
    "\n",
    "print(\"The number of training images: \", Trainsize)\n",
    "print(\"The number of testing images: \", Testsize)\n",
    "print(\"Data load OK!\")"
   ]
  },
  {
   "cell_type": "code",
   "execution_count": 16,
   "metadata": {},
   "outputs": [
    {
     "name": "stdout",
     "output_type": "stream",
     "text": [
      "Net(\n",
      "  (conv1): Conv2d(1, 8, kernel_size=(5, 5), stride=(1, 1))\n",
      "  (conv2): Conv2d(8, 16, kernel_size=(5, 5), stride=(1, 1))\n",
      "  (pool): MaxPool2d(kernel_size=2, stride=2, padding=0, dilation=1, ceil_mode=False)\n",
      "  (fc1): Linear(in_features=400, out_features=10, bias=True)\n",
      ")\n"
     ]
    }
   ],
   "source": [
    "#Network structure\n",
    "\n",
    "# # linear classifier\n",
    "# class Net(nn.Module):\n",
    "#     def __init__(self):\n",
    "#         super(Net, self).__init__()\n",
    "#         self.fc1 = nn.Linear(32*32, 10)\n",
    "#     def forward(self, x):\n",
    "#         x = x.view(-1, 32 * 32)\n",
    "#         x= self.fc1(x)  \n",
    "#         return x\n",
    "\n",
    "# # Network with only fc layers \n",
    "# class Net(nn.Module):\n",
    "#     def __init__(self):\n",
    "#         super(Net, self).__init__()\n",
    "#         self.fc1 = nn.Linear(32*32, 16*16)\n",
    "#         self.fc2 = nn.Linear(16*16, 8*8)\n",
    "#         self.fc3 = nn.Linear(8*8, 10)\n",
    "\n",
    "#     def forward(self, x):\n",
    "#         x = x.view(-1, 32 * 32)\n",
    "#         x = func.relu(self.fc1(x))\n",
    "#         x = func.relu(self.fc2(x))\n",
    "#         x = self.fc3(x)\n",
    "#         return x\n",
    "\n",
    "# Network with 2 Conv2, 3fc\n",
    "class Net(nn.Module):\n",
    "    def __init__(self):\n",
    "        super(Net, self).__init__()\n",
    "        self.conv1 = nn.Conv2d(1, 8, 5)\n",
    "        self.conv2 = nn.Conv2d(8, 16, 5)\n",
    "        self.pool = nn.MaxPool2d(2, 2)\n",
    "        self.fc1 = nn.Linear(16*5*5, 10)\n",
    "        \n",
    "    def forward(self, x):\n",
    "        x = self.pool(func.relu(self.conv1(x)))\n",
    "        x = self.pool(func.relu(self.conv2(x)))\n",
    "        x = x.view(-1, 16 * 5 * 5)\n",
    "        x = self.fc1(x)\n",
    "\n",
    "        return x\n",
    "\n",
    "\n",
    "# # Network with 2 Conv2, 3fc\n",
    "# class Net(nn.Module):\n",
    "#     def __init__(self):\n",
    "#         super(Net, self).__init__()\n",
    "#         self.conv1 = nn.Conv2d(1, 6, 5)\n",
    "#         self.pool = nn.MaxPool2d(2, 2)\n",
    "#         self.conv2 = nn.Conv2d(6, 16, 5)\n",
    "#         self.fc1 = nn.Linear(16 * 5 * 5, 120)\n",
    "#         self.fc2 = nn.Linear(120, 84)\n",
    "#         self.fc3 = nn.Linear(84, 10)\n",
    "\n",
    "#     def forward(self, x):\n",
    "#         x = self.pool(func.relu(self.conv1(x)))\n",
    "#         x = self.pool(func.relu(self.conv2(x)))\n",
    "#         x = x.view(-1, 16 * 5 * 5)\n",
    "#         x = func.relu(self.fc1(x))\n",
    "#         x = func.relu(self.fc2(x))\n",
    "#         x = self.fc3(x)\n",
    "#         return x\n",
    "\n",
    "net = Net()\n",
    "net = net.cuda()\n",
    "print(net)\n",
    "\n",
    "criterion = nn.CrossEntropyLoss()\n",
    "optimizer = optim.SGD(net.parameters(), lr=0.001, momentum=0.9)"
   ]
  },
  {
   "cell_type": "code",
   "execution_count": 17,
   "metadata": {},
   "outputs": [
    {
     "name": "stdout",
     "output_type": "stream",
     "text": [
      "epoch number 1\n",
      "train_accuracy: 88.840 %\n",
      "train_loss: 0.004\n",
      "test_accuracy: 89.370 %\n",
      "test_loss: 0.022\n",
      "epoch number 2\n",
      "train_accuracy: 92.060 %\n",
      "train_loss: 0.003\n",
      "test_accuracy: 92.580 %\n",
      "test_loss: 0.015\n",
      "epoch number 3\n",
      "train_accuracy: 94.010 %\n",
      "train_loss: 0.002\n",
      "test_accuracy: 94.780 %\n",
      "test_loss: 0.011\n",
      "epoch number 4\n",
      "train_accuracy: 95.430 %\n",
      "train_loss: 0.002\n",
      "test_accuracy: 95.640 %\n",
      "test_loss: 0.009\n",
      "epoch number 5\n",
      "train_accuracy: 96.000 %\n",
      "train_loss: 0.001\n",
      "test_accuracy: 96.440 %\n",
      "test_loss: 0.008\n",
      "Training OK!\n"
     ]
    }
   ],
   "source": [
    "#training process\n",
    "\n",
    "epoch_num = 5\n",
    "x1 = range(1,epoch_num+1)\n",
    "x2 = range(1,epoch_num+1)\n",
    "accuracy1 = []\n",
    "accuracy2 = []\n",
    "loss1 = []\n",
    "loss2 = []\n",
    "\n",
    "for epoch in range(epoch_num): \n",
    "    for i, data in enumerate(train_loader, 0):\n",
    "        \n",
    "        if i >= Trainsize/batchsize:\n",
    "            break        \n",
    "        inputs, labels = data  \n",
    "        \n",
    "        inputs = inputs.cuda()\n",
    "        labels = labels.cuda()\n",
    "        \n",
    "        optimizer.zero_grad()     \n",
    "        outputs = net(inputs)\n",
    "        train_loss = criterion(outputs, labels)\n",
    "        train_loss.backward()\n",
    "        optimizer.step()\n",
    "\n",
    "    # training accuracy and loss\n",
    "    print(\"epoch number %d\" % (epoch + 1))\n",
    "    \n",
    "    correct = 0\n",
    "    total = 0\n",
    "    running_loss = 0\n",
    "    for i, data in enumerate(train_loader, 0):\n",
    "        if i >= Trainsize/batchsize:\n",
    "            break\n",
    "        \n",
    "        images, labels = data\n",
    "        images = images.cuda()\n",
    "        labels = labels.cuda()\n",
    "        outputs = net(images)\n",
    "        \n",
    "        train_loss = criterion(outputs, labels)\n",
    "        running_loss += train_loss.item()\n",
    "        \n",
    "        _, predicted = torch.max(outputs, 1)\n",
    "        total += batchsize\n",
    "        correct += (predicted == labels).sum().item()\n",
    "       \n",
    "    print('train_accuracy: %.3f %%' % (100 * correct / total))\n",
    "    accuracy1.append(100 * correct / total)\n",
    "    print(\"train_loss: %.3f\" % (running_loss / (len(train_loader)*batchsize) ))\n",
    "    loss1.append(running_loss / (len(train_loader)*batchsize))\n",
    "    \n",
    "    # testing accuracy and loss\n",
    "    correct = 0\n",
    "    total = 0\n",
    "    running_loss = 0\n",
    "    for i, data in enumerate(test_loader, 0):\n",
    "        if i >= Testsize/batchsize:\n",
    "            break\n",
    "        images, labels = data\n",
    "        images = images.cuda()\n",
    "        labels = labels.cuda()\n",
    "        outputs = net(images)\n",
    "      \n",
    "        \n",
    "        test_loss = criterion(outputs, labels)\n",
    "        running_loss += test_loss.item()\n",
    "        \n",
    "        _, predicted = torch.max(outputs, 1)\n",
    "        total += batchsize\n",
    "        correct += (predicted == labels).sum().item()\n",
    "       \n",
    "    print('test_accuracy: %.3f %%' % (100 * correct / total))\n",
    "    accuracy2.append(100 * correct / total)\n",
    "    print(\"test_loss: %.3f\" % (running_loss / (len(test_loader)*batchsize) ))\n",
    "    loss2.append(running_loss / (len(test_loader)*batchsize))\n",
    "\n",
    "print(\"Training OK!\")\n"
   ]
  },
  {
   "cell_type": "code",
   "execution_count": 18,
   "metadata": {},
   "outputs": [
    {
     "data": {
      "image/png": "[encoded data removed]",
      "text/plain": [
       "<Figure size 432x288 with 1 Axes>"
      ]
     },
     "metadata": {},
     "output_type": "display_data"
    },
    {
     "data": {
      "image/png": "[encoded data removed]",
      "text/plain": [
       "<Figure size 432x288 with 1 Axes>"
      ]
     },
     "metadata": {},
     "output_type": "display_data"
    }
   ],
   "source": [
    "# visualize the result\n",
    "\n",
    "plt.plot(x1, accuracy1, label=\"training accuracy\")\n",
    "plt.plot(x2, accuracy2, label=\"testing accuracy\")\n",
    "plt.xlabel(\"epoch number\")\n",
    "plt.xticks(np.linspace(1,epoch_num,epoch_num))\n",
    "plt.ylabel(\"accuracy\")\n",
    "plt.title(\"accuracy graph\")\n",
    "plt.legend()\n",
    "plt.show()\n",
    "\n",
    "\n",
    "plt.plot(x1, loss1, label=\"training loss\")\n",
    "plt.plot(x2, loss2, label=\"testing loss\")\n",
    "plt.xlabel(\"epoch number\")\n",
    "plt.xticks(np.linspace(1,epoch_num,epoch_num))\n",
    "plt.ylabel(\"loss\")\n",
    "plt.title(\"loss graph\")\n",
    "plt.legend()\n",
    "plt.show()\n"
   ]
  },
  {
   "cell_type": "code",
   "execution_count": 19,
   "metadata": {},
   "outputs": [
    {
     "name": "stdout",
     "output_type": "stream",
     "text": [
      "test_acc: 98.673\n",
      "test_acc: 98.855\n",
      "test_acc: 95.930\n",
      "test_acc: 96.337\n",
      "test_acc: 95.825\n",
      "test_acc: 94.731\n",
      "test_acc: 97.390\n",
      "test_acc: 94.942\n",
      "test_acc: 95.688\n",
      "test_acc: 95.639\n"
     ]
    }
   ],
   "source": [
    "# the acc for different numbers \n",
    "\n",
    "single_loader = torch.utils.data.DataLoader(test_dataset, batch_size=1,\n",
    "                                          shuffle=True, num_workers=2)\n",
    "correct = [0.0]*10\n",
    "total = [0.0]*10\n",
    "for data in single_loader:\n",
    "    images, labels = data \n",
    "    images = images.cuda()\n",
    "    labels = labels.cuda()\n",
    "    \n",
    "    outputs = net(images)\n",
    "    _, predicted = torch.max(outputs, 1)\n",
    "    total[labels] += 1\n",
    "    correct[labels] += (predicted == labels).sum().item()  \n",
    "    \n",
    "num_acc = []\n",
    "for i in range(10):\n",
    "    num_acc.append(100*correct[i]  / total[i])\n",
    "    print(\"test_acc: %.3f\" % (100*correct[i]  / total[i]))"
   ]
  },
  {
   "cell_type": "code",
   "execution_count": 20,
   "metadata": {},
   "outputs": [
    {
     "data": {
      "image/png": "[encoded data removed]",
      "text/plain": [
       "<Figure size 432x288 with 1 Axes>"
      ]
     },
     "metadata": {},
     "output_type": "display_data"
    }
   ],
   "source": [
    "#visualize the result\n",
    "\n",
    "num = range(0,10)\n",
    "plt.bar(num, num_acc)\n",
    "\n",
    "plt.xlabel(\"number\")\n",
    "plt.ylim((85,100))\n",
    "plt.xticks(np.linspace(0,9,10))\n",
    "plt.ylabel(\"accuracy\")\n",
    "plt.title(\"number-acc graph\")\n",
    "\n",
    "plt.show()"
   ]
  },
  {
   "cell_type": "code",
   "execution_count": 21,
   "metadata": {},
   "outputs": [
    {
     "name": "stdout",
     "output_type": "stream",
     "text": [
      "ground truth:  7 predicted result:  2\n"
     ]
    },
    {
     "data": {
      "image/png": "[encoded data removed]",
      "text/plain": [
       "<Figure size 432x288 with 1 Axes>"
      ]
     },
     "metadata": {},
     "output_type": "display_data"
    }
   ],
   "source": [
    "# find incorrect detection result\n",
    "\n",
    "single_loader = torch.utils.data.DataLoader(test_dataset, batch_size=1,\n",
    "                                          shuffle=True, num_workers=2)\n",
    "\n",
    "\n",
    "for data in single_loader:\n",
    "    images, labels = data\n",
    "    images = images.cuda()\n",
    "    labels = labels.cuda()\n",
    "    \n",
    "    \n",
    "    outputs = net(images)\n",
    "    _, predicted = torch.max(outputs, 1)\n",
    "    \n",
    "    if predicted != labels:\n",
    "        plt.imshow(images.squeeze(), cmap = \"gray\")\n",
    "        print(\"ground truth: \", labels.item(), \"predicted result: \", predicted.item())\n",
    "        break\n",
    "        \n",
    "\n",
    "    \n"
   ]
  },
  {
   "cell_type": "code",
   "execution_count": 22,
   "metadata": {},
   "outputs": [
    {
     "data": {
      "image/png": "[encoded data removed]",
      "text/plain": [
       "<Figure size 432x288 with 1 Axes>"
      ]
     },
     "metadata": {},
     "output_type": "display_data"
    }
   ],
   "source": [
    "# output the confusion matrix \n",
    "\n",
    "single_loader = torch.utils.data.DataLoader(test_dataset, batch_size=1,\n",
    "                                          shuffle=True, num_workers=2)\n",
    "cells = [([0]*10)for i in range(10)]\n",
    "\n",
    "for data in single_loader:\n",
    "    images, labels = data\n",
    "    images = images.cuda()\n",
    "    labels = labels.cuda()\n",
    "    \n",
    "    outputs = net(images)\n",
    "    _, predicted = torch.max(outputs, 1)\n",
    "\n",
    "    cells[predicted.item()][labels.item()] += 1\n",
    "\n",
    "\n",
    "labels_num = [i for i in range(10)]\n",
    "predicted_num = [i for i in range(10)]\n",
    "\n",
    "\n",
    "plt.subplot2grid((4,3), (0,0), colspan=5, rowspan=3)\n",
    "plt.axis(\"off\")\n",
    "plt.table(rowLabels = predicted_num, colLabels = labels_num ,cellText = cells,loc=\"upper center\",\n",
    "         colWidths= [0.1]*10)\n",
    "plt.title(\"Confusion matrix\")\n",
    "plt.show()\n"
   ]
  },
  {
   "cell_type": "code",
   "execution_count": null,
   "metadata": {},
   "outputs": [],
   "source": [
    "\n",
    "\n"
   ]
  },
  {
   "cell_type": "code",
   "execution_count": null,
   "metadata": {},
   "outputs": [],
   "source": []
  }
 ],
 "metadata": {
  "kernelspec": {
   "display_name": "Python 3",
   "language": "python",
   "name": "python3"
  },
  "language_info": {
   "codemirror_mode": {
    "name": "ipython",
    "version": 3
   },
   "file_extension": ".py",
   "mimetype": "text/x-python",
   "name": "python",
   "nbconvert_exporter": "python",
   "pygments_lexer": "ipython3",
   "version": "3.6.5"
  }
 },
 "nbformat": 4,
 "nbformat_minor": 2
}
