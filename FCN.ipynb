{
 "cells": [
  {
   "cell_type": "code",
   "execution_count": 1,
   "metadata": {},
   "outputs": [],
   "source": [
    "#things to be import\n",
    "\n",
    "import torch\n",
    "import torch.nn as nn\n",
    "import torch.nn.functional as func\n",
    "import torch.autograd as atgd\n",
    "import torch.optim as optim\n",
    "import torchvision\n",
    "\n",
    "import torchvision.transforms as transforms\n",
    "import matplotlib.pyplot as plt\n",
    "import numpy as np"
   ]
  },
  {
   "cell_type": "code",
   "execution_count": 2,
   "metadata": {},
   "outputs": [
    {
     "name": "stdout",
     "output_type": "stream",
     "text": [
      "The number of training images:  10000\n",
      "The number of testing images:  60000\n",
      "Data load OK!\n"
     ]
    }
   ],
   "source": [
    "#loading training and testing data\n",
    "\n",
    "batchsize = 16\n",
    "\n",
    "transform = transforms.Compose(\n",
    "    [\n",
    "    transforms.Resize((32,32)),    \n",
    "    transforms.ToTensor(),\n",
    "    ])\n",
    "\n",
    "train_dataset = torchvision.datasets.MNIST(root = './data/mnist', \n",
    "                           train = False, \n",
    "                           transform = transform,\n",
    "                           download = True) \n",
    "test_dataset = torchvision.datasets.MNIST(root = './data/mnist',\n",
    "                           train = True,\n",
    "                           transform = transform,\n",
    "                           download = True)\n",
    "\n",
    "train_loader = torch.utils.data.DataLoader(train_dataset, batch_size=batchsize,\n",
    "                                          shuffle=True, num_workers=2)\n",
    "test_loader = torch.utils.data.DataLoader(test_dataset, batch_size=batchsize,\n",
    "                                          shuffle=True, num_workers=2)\n",
    "\n",
    "print(\"The number of training images: \", len(train_loader)*batchsize)\n",
    "print(\"The number of testing images: \", len(test_loader)*batchsize)\n",
    "\n",
    "\n",
    "print(\"Data load OK!\")"
   ]
  },
  {
   "cell_type": "code",
   "execution_count": 3,
   "metadata": {},
   "outputs": [
    {
     "name": "stdout",
     "output_type": "stream",
     "text": [
      "Network Structure: \n",
      "Net(\n",
      "  (conv1): Conv2d(1, 8, kernel_size=(5, 5), stride=(1, 1))\n",
      "  (conv2): Conv2d(8, 16, kernel_size=(5, 5), stride=(1, 1))\n",
      "  (pool): MaxPool2d(kernel_size=2, stride=2, padding=0, dilation=1, ceil_mode=False)\n",
      "  (conv3): Conv2d(16, 10, kernel_size=(5, 5), stride=(1, 1))\n",
      ")\n"
     ]
    }
   ],
   "source": [
    "class Net(nn.Module):\n",
    "    def __init__(self):\n",
    "        super(Net, self).__init__()\n",
    "        self.conv1 = nn.Conv2d(1, 8, 5)\n",
    "        self.conv2 = nn.Conv2d(8, 16, 5)\n",
    "\n",
    "        self.pool = nn.MaxPool2d(2, 2)\n",
    "#         self.fc1 = nn.Linear(16*6*6, 10)\n",
    "        \n",
    "        \n",
    "        self.conv3 = nn.Conv2d(16, 10, 5)\n",
    "#         self.sm = nn.Softmax()\n",
    "#         self.fc2 = nn.Linear(100, 64)\n",
    "#         self.fc3 = nn.Linear(100, 10)\n",
    "\n",
    "    def forward(self, x):\n",
    "#         print(\"1\",x.size())\n",
    "        x = self.pool(func.relu(self.conv1(x)))\n",
    "#         print(\"2\",x.size())\n",
    "        x = self.pool(func.relu(self.conv2(x)))\n",
    "#         x = self.pool(func.relu(self.conv3(x)))\n",
    "#         print(\"3\",x.size())\n",
    "#         x = x.view(-1, 16 * 6 * 6)\n",
    "#         x = func.relu(self.fc1(x))\n",
    "\n",
    "\n",
    "        x = self.conv3(x)\n",
    "        \n",
    "    \n",
    "#         print(\"4\", x.size())\n",
    "#         x = x.view(-1,10)\n",
    "#         x = self.fc1(x)\n",
    "#         x = self.sm(self.fc1(x))\n",
    "#         x = func.relu(self.fc2(x))\n",
    "#         x = self.fc3(x)\n",
    "        return x\n",
    "\n",
    "net = Net()\n",
    "\n",
    "print(\"Network Structure: \")\n",
    "print(net)\n",
    "\n",
    "criterion = nn.CrossEntropyLoss()\n",
    "optimizer = optim.SGD(net.parameters(), lr=0.001, momentum=0.9)"
   ]
  },
  {
   "cell_type": "code",
   "execution_count": 4,
   "metadata": {},
   "outputs": [
    {
     "name": "stdout",
     "output_type": "stream",
     "text": [
      "epoch number 1\n",
      "train_accuracy: 85.930 %\n",
      "train_loss: 0.026\n",
      "test_accuracy: 84.928 %\n",
      "test_loss: 0.028\n",
      "epoch number 2\n",
      "train_accuracy: 93.600 %\n",
      "train_loss: 0.013\n",
      "test_accuracy: 92.333 %\n",
      "test_loss: 0.016\n",
      "epoch number 3\n",
      "train_accuracy: 95.120 %\n",
      "train_loss: 0.010\n",
      "test_accuracy: 93.598 %\n",
      "test_loss: 0.013\n",
      "epoch number 4\n",
      "train_accuracy: 96.060 %\n",
      "train_loss: 0.008\n",
      "test_accuracy: 94.627 %\n",
      "test_loss: 0.011\n",
      "epoch number 5\n",
      "train_accuracy: 96.740 %\n",
      "train_loss: 0.007\n",
      "test_accuracy: 95.133 %\n",
      "test_loss: 0.010\n",
      "Training OK!\n"
     ]
    }
   ],
   "source": [
    "#training process\n",
    "\n",
    "epoch_num = 5\n",
    "x1 = range(1,epoch_num+1)\n",
    "x2 = range(1,epoch_num+1)\n",
    "accuracy1 = []\n",
    "accuracy2 = []\n",
    "loss1 = []\n",
    "loss2 = []\n",
    "\n",
    "\n",
    "for epoch in range(epoch_num): \n",
    "    for i, data in enumerate(train_loader, 0):\n",
    "        inputs, labels = data\n",
    "        \n",
    "        optimizer.zero_grad()     \n",
    "        outputs = net(inputs)\n",
    "        outputs = outputs.view(-1,10)\n",
    "        \n",
    "        train_loss = criterion(outputs, labels)\n",
    "        train_loss.backward()\n",
    "        optimizer.step()\n",
    "\n",
    "\n",
    "    print(\"epoch number %d\" % (epoch + 1))\n",
    "    \n",
    "    correct = 0\n",
    "    total = 0\n",
    "    running_loss = 0\n",
    "    for data in train_loader:\n",
    "        images, labels = data\n",
    "        outputs = net(images)\n",
    "        outputs = outputs.view(-1,10)\n",
    "        \n",
    "        \n",
    "        train_loss = criterion(outputs, labels)\n",
    "        running_loss += train_loss.item()\n",
    "        \n",
    "        _, predicted = torch.max(outputs, 1)\n",
    "        total += batchsize\n",
    "        correct += (predicted == labels).sum().item()\n",
    "       \n",
    "    print('train_accuracy: %.3f %%' % (100 * correct / total))\n",
    "    accuracy1.append(100 * correct / total)\n",
    "    print(\"train_loss: %.3f\" % (running_loss / (len(train_loader)*batchsize) ))\n",
    "    loss1.append(running_loss / (len(train_loader)*batchsize))\n",
    "    \n",
    "    # testing accuracy and loss\n",
    "    correct = 0\n",
    "    total = 0\n",
    "    running_loss = 0\n",
    "    for data in test_loader:\n",
    "        images, labels = data\n",
    "        outputs = net(images)\n",
    "        outputs = outputs.view(-1,10)\n",
    "        test_loss = criterion(outputs, labels)\n",
    "        running_loss += test_loss.item()\n",
    "        \n",
    "        _, predicted = torch.max(outputs, 1)\n",
    "        total += batchsize\n",
    "        correct += (predicted == labels).sum().item()\n",
    "       \n",
    "    print('test_accuracy: %.3f %%' % (100 * correct / total))\n",
    "    accuracy2.append(100 * correct / total)\n",
    "    print(\"test_loss: %.3f\" % (running_loss / (len(test_loader)*batchsize) ))\n",
    "    loss2.append(running_loss / (len(test_loader)*batchsize))\n",
    "\n",
    "print(\"Training OK!\")\n",
    "\n",
    "\n"
   ]
  },
  {
   "cell_type": "code",
   "execution_count": 15,
   "metadata": {},
   "outputs": [
    {
     "name": "stdout",
     "output_type": "stream",
     "text": [
      "torch.Size([1, 1, 64, 64])\n",
      "torch.Size([1, 10, 9, 9])\n",
      "torch.Size([10, 9, 9])\n"
     ]
    },
    {
     "data": {
      "image/png": "[encoded data removed]",
      "text/plain": [
       "<Figure size 432x288 with 1 Axes>"
      ]
     },
     "metadata": {},
     "output_type": "display_data"
    },
    {
     "data": {
      "image/png": "[encoded data removed]",
      "text/plain": [
       "<Figure size 432x288 with 1 Axes>"
      ]
     },
     "metadata": {},
     "output_type": "display_data"
    }
   ],
   "source": [
    "combine_loader = torch.utils.data.DataLoader(test_dataset, batch_size=4,\n",
    "                                          shuffle=True, num_workers=2)\n",
    "\n",
    "for data in combine_loader:\n",
    "    images, _ = data\n",
    "   \n",
    "    combine = torch.cat((torch.cat((images[0], images[1]),1) , torch.cat((images[2], images[3]),1)),2)\n",
    "    combine = combine.view(1,1,64,64)\n",
    "    print(combine.size())\n",
    "    plt.figure(0)\n",
    "    plt.imshow(combine.squeeze(), cmap = \"gray\")\n",
    "    \n",
    "    \n",
    "    outputs = net(combine)\n",
    "    print(outputs.size())\n",
    "    \n",
    "    outputs = outputs.squeeze()\n",
    "    print(outputs.size())\n",
    "    plt.figure(1)\n",
    "    plt.imshow(outputs[8].detach(), cmap=\"gray\")\n",
    "    break\n",
    "#     print(images.size())"
   ]
  },
  {
   "cell_type": "code",
   "execution_count": null,
   "metadata": {},
   "outputs": [],
   "source": []
  },
  {
   "cell_type": "code",
   "execution_count": null,
   "metadata": {},
   "outputs": [],
   "source": []
  }
 ],
 "metadata": {
  "kernelspec": {
   "display_name": "Python 3",
   "language": "python",
   "name": "python3"
  },
  "language_info": {
   "codemirror_mode": {
    "name": "ipython",
    "version": 3
   },
   "file_extension": ".py",
   "mimetype": "text/x-python",
   "name": "python",
   "nbconvert_exporter": "python",
   "pygments_lexer": "ipython3",
   "version": "3.6.5"
  }
 },
 "nbformat": 4,
 "nbformat_minor": 2
}
