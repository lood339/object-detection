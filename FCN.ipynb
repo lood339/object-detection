{
 "cells": [
  {
   "cell_type": "code",
   "execution_count": 1,
   "metadata": {},
   "outputs": [],
   "source": [
    "#things to be import\n",
    "\n",
    "import torch\n",
    "import torch.nn as nn\n",
    "import torch.nn.functional as func\n",
    "import torch.autograd as atgd\n",
    "import torch.optim as optim\n",
    "import torchvision\n",
    "\n",
    "import torchvision.transforms as transforms\n",
    "import matplotlib.pyplot as plt\n",
    "import numpy as np"
   ]
  },
  {
   "cell_type": "code",
   "execution_count": 2,
   "metadata": {},
   "outputs": [
    {
     "name": "stdout",
     "output_type": "stream",
     "text": [
      "The number of training images:  60000\n",
      "The number of testing images:  10000\n",
      "Data load OK!\n"
     ]
    }
   ],
   "source": [
    "#loading training and testing data\n",
    "\n",
    "batchsize = 16\n",
    "\n",
    "transform = transforms.Compose(\n",
    "    [\n",
    "    transforms.Resize((32,32)),    \n",
    "    transforms.ToTensor(),\n",
    "    ])\n",
    "\n",
    "train_dataset = torchvision.datasets.MNIST(root = './data/mnist', \n",
    "                           train = True, \n",
    "                           transform = transform,\n",
    "                           download = True) \n",
    "test_dataset = torchvision.datasets.MNIST(root = './data/mnist',\n",
    "                           train = False,\n",
    "                           transform = transform,\n",
    "                           download = True)\n",
    "\n",
    "train_loader = torch.utils.data.DataLoader(train_dataset, batch_size=batchsize,\n",
    "                                          shuffle=True, num_workers=1)\n",
    "test_loader = torch.utils.data.DataLoader(test_dataset, batch_size=batchsize,\n",
    "                                          shuffle=True, num_workers=1)\n",
    "\n",
    "print(\"The number of training images: \", len(train_loader)*batchsize)\n",
    "print(\"The number of testing images: \", len(test_loader)*batchsize)\n",
    "\n",
    "\n",
    "print(\"Data load OK!\")"
   ]
  },
  {
   "cell_type": "code",
   "execution_count": 3,
   "metadata": {},
   "outputs": [
    {
     "name": "stdout",
     "output_type": "stream",
     "text": [
      "Net(\n",
      "  (conv1): Conv2d(1, 8, kernel_size=(5, 5), stride=(1, 1))\n",
      "  (conv2): Conv2d(8, 16, kernel_size=(5, 5), stride=(1, 1))\n",
      "  (pool): MaxPool2d(kernel_size=2, stride=2, padding=0, dilation=1, ceil_mode=False)\n",
      "  (conv3): Conv2d(16, 10, kernel_size=(5, 5), stride=(1, 1))\n",
      ")\n"
     ]
    }
   ],
   "source": [
    "class Net(nn.Module):\n",
    "    def __init__(self):\n",
    "        super(Net, self).__init__()\n",
    "        self.conv1 = nn.Conv2d(1, 8, 5)\n",
    "        self.conv2 = nn.Conv2d(8, 16, 5)\n",
    "        self.pool = nn.MaxPool2d(2, 2)     \n",
    "        self.conv3 = nn.Conv2d(16, 10, 5)\n",
    "\n",
    "\n",
    "    def forward(self, x):\n",
    "        x = self.pool(func.relu(self.conv1(x)))\n",
    "        x = self.pool(func.relu(self.conv2(x)))\n",
    "        x = self.conv3(x)\n",
    "    \n",
    "        return x\n",
    "\n",
    "net = Net()\n",
    "\n",
    "net = net.cuda()\n",
    "print(net)\n",
    "\n",
    "criterion = nn.CrossEntropyLoss()\n",
    "optimizer = optim.SGD(net.parameters(), lr=0.001, momentum=0.9)"
   ]
  },
  {
   "cell_type": "code",
   "execution_count": 4,
   "metadata": {},
   "outputs": [
    {
     "name": "stdout",
     "output_type": "stream",
     "text": [
      "epoch number 1\n",
      "train_accuracy: 96.253 %\n",
      "train_loss: 0.008\n",
      "test_accuracy: 96.510 %\n",
      "test_loss: 0.007\n",
      "epoch number 2\n",
      "train_accuracy: 97.085 %\n",
      "train_loss: 0.006\n",
      "test_accuracy: 97.290 %\n",
      "test_loss: 0.005\n",
      "epoch number 3\n",
      "train_accuracy: 98.027 %\n",
      "train_loss: 0.004\n",
      "test_accuracy: 98.170 %\n",
      "test_loss: 0.004\n",
      "epoch number 4\n",
      "train_accuracy: 97.797 %\n",
      "train_loss: 0.004\n",
      "test_accuracy: 98.050 %\n",
      "test_loss: 0.004\n",
      "epoch number 5\n",
      "train_accuracy: 98.280 %\n",
      "train_loss: 0.003\n",
      "test_accuracy: 98.220 %\n",
      "test_loss: 0.004\n",
      "Training OK!\n"
     ]
    }
   ],
   "source": [
    "#training process\n",
    "\n",
    "epoch_num = 5\n",
    "x1 = range(1,epoch_num+1)\n",
    "x2 = range(1,epoch_num+1)\n",
    "accuracy1 = []\n",
    "accuracy2 = []\n",
    "loss1 = []\n",
    "loss2 = []\n",
    "\n",
    "\n",
    "for epoch in range(epoch_num): \n",
    "    for i, data in enumerate(train_loader, 0):\n",
    "        inputs, labels = data\n",
    "        inputs = inputs.cuda()\n",
    "        labels = labels.cuda()\n",
    "        \n",
    "        \n",
    "        optimizer.zero_grad()     \n",
    "        outputs = net(inputs)\n",
    "        outputs = outputs.view(-1,10)\n",
    "        \n",
    "        train_loss = criterion(outputs, labels)\n",
    "        train_loss.backward()\n",
    "        optimizer.step()\n",
    "\n",
    "\n",
    "    print(\"epoch number %d\" % (epoch + 1))\n",
    "    \n",
    "    correct = 0\n",
    "    total = 0\n",
    "    running_loss = 0\n",
    "    for data in train_loader:\n",
    "        images, labels = data\n",
    "        images = images.cuda()\n",
    "        labels = labels.cuda()\n",
    "        \n",
    "        \n",
    "        \n",
    "        outputs = net(images)\n",
    "        outputs = outputs.view(-1,10)\n",
    "        \n",
    "        \n",
    "        train_loss = criterion(outputs, labels)\n",
    "        running_loss += train_loss.item()\n",
    "        \n",
    "        _, predicted = torch.max(outputs, 1)\n",
    "        total += batchsize\n",
    "        correct += (predicted == labels).sum().item()\n",
    "       \n",
    "    print('train_accuracy: %.3f %%' % (100 * correct / total))\n",
    "    accuracy1.append(100 * correct / total)\n",
    "    print(\"train_loss: %.3f\" % (running_loss / (len(train_loader)*batchsize) ))\n",
    "    loss1.append(running_loss / (len(train_loader)*batchsize))\n",
    "    \n",
    "    # testing accuracy and loss\n",
    "    correct = 0\n",
    "    total = 0\n",
    "    running_loss = 0\n",
    "    for data in test_loader:\n",
    "        images, labels = data\n",
    "        images = images.cuda()\n",
    "        labels = labels.cuda()\n",
    "        outputs = net(images)\n",
    "        outputs = outputs.view(-1,10)\n",
    "        test_loss = criterion(outputs, labels)\n",
    "        running_loss += test_loss.item()\n",
    "        \n",
    "        _, predicted = torch.max(outputs, 1)\n",
    "        total += batchsize\n",
    "        correct += (predicted == labels).sum().item()\n",
    "       \n",
    "    print('test_accuracy: %.3f %%' % (100 * correct / total))\n",
    "    accuracy2.append(100 * correct / total)\n",
    "    print(\"test_loss: %.3f\" % (running_loss / (len(test_loader)*batchsize) ))\n",
    "    loss2.append(running_loss / (len(test_loader)*batchsize))\n",
    "\n",
    "print(\"Training OK!\")\n",
    "\n",
    "\n"
   ]
  },
  {
   "cell_type": "code",
   "execution_count": 8,
   "metadata": {},
   "outputs": [
    {
     "name": "stdout",
     "output_type": "stream",
     "text": [
      "torch.Size([1, 1, 64, 64])\n",
      "torch.Size([1, 10, 9, 9])\n",
      "torch.Size([10, 9, 9])\n",
      "tensor([[ 1.2413, -3.2068,  1.2799,  5.9499,  4.5268,  1.8398, -0.6316,\n",
      "         -2.2545, -3.5705],\n",
      "        [-3.5990, -5.4145, -0.4457,  3.2490,  1.6206,  1.2005,  0.0797,\n",
      "         -3.8991, -5.9117],\n",
      "        [-3.0495, -7.2716, -8.9217, -4.9140, -0.7396,  4.3376,  1.7738,\n",
      "         -6.2941, -5.4239],\n",
      "        [-5.9049, -6.7104, -7.2233, -6.1277, -3.6347,  0.8986, -1.7694,\n",
      "         -6.4002, -5.2327],\n",
      "        [-6.2304,  0.8620,  1.0338, -1.7776, -2.1883, -0.9903, -3.9781,\n",
      "         -6.6703, -4.6337],\n",
      "        [-7.2179,  3.1661,  4.9968,  0.3020, -1.4734,  0.7684, -2.9703,\n",
      "         -8.7954, -8.0181],\n",
      "        [-0.5992,  1.1123,  0.4640, -0.7641, -0.2616,  1.4819, -0.5243,\n",
      "         -8.1364, -9.1480],\n",
      "        [ 4.6342, -1.3410, -3.3141, -0.3559,  1.2756,  2.8953,  3.5107,\n",
      "         -3.1455, -8.4803],\n",
      "        [ 6.6129,  4.8699, -0.9729,  0.0049,  0.1222,  2.5862,  5.3225,\n",
      "         -2.0043, -8.8586]], device='cuda:0')\n"
     ]
    },
    {
     "data": {
      "image/png": "[encoded data removed]",
      "text/plain": [
       "<Figure size 432x288 with 1 Axes>"
      ]
     },
     "metadata": {},
     "output_type": "display_data"
    },
    {
     "data": {
      "image/png": "[encoded data removed]",
      "text/plain": [
       "<Figure size 432x288 with 1 Axes>"
      ]
     },
     "metadata": {},
     "output_type": "display_data"
    }
   ],
   "source": [
    "combine_loader = torch.utils.data.DataLoader(test_dataset, batch_size=4,\n",
    "                                          shuffle=True, num_workers=2)\n",
    "\n",
    "for data in combine_loader:\n",
    "    images, _ = data\n",
    "    images = images.cuda()\n",
    "\n",
    "    combine = torch.cat((torch.cat((images[0], images[1]),1) , torch.cat((images[2], images[3]),1)),2)\n",
    "    combine = combine.view(1,1,64,64)\n",
    "    print(combine.size())\n",
    "    plt.figure(0)\n",
    "    plt.imshow(combine.squeeze(), cmap = \"gray\")\n",
    "    \n",
    "    \n",
    "    outputs = net(combine)\n",
    "    print(outputs.size())\n",
    "    \n",
    "    outputs = outputs.squeeze()\n",
    "    print(outputs.size())\n",
    "    plt.figure(1)\n",
    "    plt.imshow(outputs[0].detach(), cmap=\"gray\")\n",
    "    print(outputs[0])\n",
    "    break\n",
    "#     print(images.size())"
   ]
  },
  {
   "cell_type": "code",
   "execution_count": null,
   "metadata": {},
   "outputs": [],
   "source": []
  },
  {
   "cell_type": "code",
   "execution_count": null,
   "metadata": {},
   "outputs": [],
   "source": []
  }
 ],
 "metadata": {
  "kernelspec": {
   "display_name": "Python 3",
   "language": "python",
   "name": "python3"
  },
  "language_info": {
   "codemirror_mode": {
    "name": "ipython",
    "version": 3
   },
   "file_extension": ".py",
   "mimetype": "text/x-python",
   "name": "python",
   "nbconvert_exporter": "python",
   "pygments_lexer": "ipython3",
   "version": "3.6.5"
  }
 },
 "nbformat": 4,
 "nbformat_minor": 2
}
