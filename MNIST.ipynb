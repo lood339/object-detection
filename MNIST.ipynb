{
 "cells": [
  {
   "cell_type": "code",
   "execution_count": 1,
   "metadata": {},
   "outputs": [],
   "source": [
    "#things to be import\n",
    "\n",
    "\n",
    "import torch\n",
    "import torch.nn as nn\n",
    "import torch.nn.functional as func\n",
    "import torch.autograd as atgd\n",
    "import torch.optim as optim\n",
    "import torchvision\n",
    "\n",
    "import torchvision.transforms as transforms\n",
    "import matplotlib.pyplot as plt\n",
    "import numpy as np"
   ]
  },
  {
   "cell_type": "code",
   "execution_count": 2,
   "metadata": {},
   "outputs": [
    {
     "name": "stdout",
     "output_type": "stream",
     "text": [
      "The number of training images:  60000\n",
      "The number of testing images:  10000\n",
      "Data load OK!\n"
     ]
    }
   ],
   "source": [
    "#loading training and testing data\n",
    "\n",
    "batchsize = 16\n",
    "\n",
    "\n",
    "transform = transforms.Compose(\n",
    "    [\n",
    "    transforms.Resize((32,32)),    \n",
    "    transforms.ToTensor(),\n",
    "    ])\n",
    "\n",
    "train_dataset = torchvision.datasets.MNIST(root = './data/mnist', \n",
    "                           train = True, \n",
    "                           transform = transform,\n",
    "                           download = True) \n",
    "test_dataset = torchvision.datasets.MNIST(root = './data/mnist',\n",
    "                           train = False,\n",
    "                           transform = transform,\n",
    "                           download = True)\n",
    "\n",
    "train_loader = torch.utils.data.DataLoader(train_dataset, batch_size=batchsize,\n",
    "                                          shuffle=True, num_workers=2)\n",
    "test_loader = torch.utils.data.DataLoader(test_dataset, batch_size=batchsize,\n",
    "                                          shuffle=True, num_workers=2)\n",
    "\n",
    "print(\"The number of training images: \", len(train_loader)*batchsize)\n",
    "print(\"The number of testing images: \", len(test_loader)*batchsize)\n",
    "\n",
    "\n",
    "print(\"Data load OK!\")"
   ]
  },
  {
   "cell_type": "code",
   "execution_count": 3,
   "metadata": {},
   "outputs": [
    {
     "name": "stdout",
     "output_type": "stream",
     "text": [
      "Network Structure: \n",
      "Net(\n",
      "  (conv1): Conv2d(1, 8, kernel_size=(5, 5), stride=(1, 1))\n",
      "  (conv2): Conv2d(8, 16, kernel_size=(3, 3), stride=(1, 1))\n",
      "  (pool): MaxPool2d(kernel_size=2, stride=2, padding=0, dilation=1, ceil_mode=False)\n",
      "  (fc1): Linear(in_features=576, out_features=10, bias=True)\n",
      ")\n"
     ]
    }
   ],
   "source": [
    "#Network structure\n",
    "\n",
    "# # linear classifier\n",
    "# class Net(nn.Module):\n",
    "#     def __init__(self):\n",
    "#         super(Net, self).__init__()\n",
    "#         self.fc1 = nn.Linear(32*32, 10)\n",
    "#     def forward(self, x):\n",
    "#         x = x.view(-1, 32 * 32)\n",
    "#         x= self.fc1(x)  \n",
    "#         return x\n",
    "# net = Net()\n",
    "\n",
    "\n",
    "# # Network with only fc layers \n",
    "# class Net(nn.Module):\n",
    "#     def __init__(self):\n",
    "#         super(Net, self).__init__()\n",
    "#         self.fc1 = nn.Linear(32*32, 16*16)\n",
    "#         self.fc2 = nn.Linear(16*16, 8*8)\n",
    "#         self.fc3 = nn.Linear(8*8, 10)\n",
    "\n",
    "#     def forward(self, x):\n",
    "#         x = x.view(-1, 32 * 32)\n",
    "#         x = func.relu(self.fc1(x))\n",
    "#         x = func.relu(self.fc2(x))\n",
    "#         x = self.fc3(x)\n",
    "#         return x\n",
    "    \n",
    "# net = Net()\n",
    "\n",
    "# Network with 2 Conv2, 3fc\n",
    "class Net(nn.Module):\n",
    "    def __init__(self):\n",
    "        super(Net, self).__init__()\n",
    "        self.conv1 = nn.Conv2d(1, 8, 5)\n",
    "        self.conv2 = nn.Conv2d(8, 16, 3)\n",
    "#         self.conv3 = nn.Conv2d(16, 24, 3)\n",
    "        self.pool = nn.MaxPool2d(2, 2)\n",
    "        self.fc1 = nn.Linear(16 * 6*6, 10)\n",
    "#         self.fc2 = nn.Linear(100, 64)\n",
    "#         self.fc3 = nn.Linear(100, 10)\n",
    "\n",
    "    def forward(self, x):\n",
    "#         print(\"1\",x.size())\n",
    "        x = self.pool(func.relu(self.conv1(x)))\n",
    "#         print(\"2\",x.size())\n",
    "        x = self.pool(func.relu(self.conv2(x)))\n",
    "#         x = self.pool(func.relu(self.conv3(x)))\n",
    "#         print(\"3\",x.size())\n",
    "        x = x.view(-1, 16 * 6 * 6)\n",
    "#         x = func.relu(self.fc1(x))\n",
    "        x = self.fc1(x)\n",
    "#         x = func.relu(self.fc2(x))\n",
    "#         x = self.fc3(x)\n",
    "        return x\n",
    "\n",
    "net = Net()\n",
    "\n",
    "print(\"Network Structure: \")\n",
    "print(net)\n",
    "\n",
    "\n",
    "# # Network with 2 Conv2, 3fc\n",
    "# class Net(nn.Module):\n",
    "#     def __init__(self):\n",
    "#         super(Net, self).__init__()\n",
    "#         self.conv1 = nn.Conv2d(1, 6, 5)\n",
    "#         self.pool = nn.MaxPool2d(2, 2)\n",
    "#         self.conv2 = nn.Conv2d(6, 16, 5)\n",
    "#         self.fc1 = nn.Linear(16 * 5 * 5, 120)\n",
    "#         self.fc2 = nn.Linear(120, 84)\n",
    "#         self.fc3 = nn.Linear(84, 10)\n",
    "\n",
    "#     def forward(self, x):\n",
    "# #         print(\"1\",x.size())\n",
    "#         x = self.pool(func.relu(self.conv1(x)))\n",
    "# #         print(\"2\",x.size())\n",
    "#         x = self.pool(func.relu(self.conv2(x)))\n",
    "# #         print(\"3\",x.size())\n",
    "#         x = x.view(-1, 16 * 5 * 5)\n",
    "#         x = func.relu(self.fc1(x))\n",
    "#         x = func.relu(self.fc2(x))\n",
    "#         x = self.fc3(x)\n",
    "#         return x\n",
    "\n",
    "# net = Net()\n",
    "# print(net)\n",
    "\n",
    "criterion = nn.CrossEntropyLoss()\n",
    "optimizer = optim.SGD(net.parameters(), lr=0.001, momentum=0.9)"
   ]
  },
  {
   "cell_type": "code",
   "execution_count": 4,
   "metadata": {},
   "outputs": [
    {
     "name": "stdout",
     "output_type": "stream",
     "text": [
      "epoch number 1\n",
      "train_accuracy: 95.670 %\n",
      "train_loss: 0.009\n",
      "test_accuracy: 95.980 %\n",
      "test_loss: 0.009\n",
      "epoch number 2\n",
      "train_accuracy: 97.018 %\n",
      "train_loss: 0.006\n",
      "test_accuracy: 97.010 %\n",
      "test_loss: 0.006\n",
      "epoch number 3\n",
      "train_accuracy: 97.838 %\n",
      "train_loss: 0.005\n",
      "test_accuracy: 97.910 %\n",
      "test_loss: 0.004\n",
      "epoch number 4\n",
      "train_accuracy: 98.073 %\n",
      "train_loss: 0.004\n",
      "test_accuracy: 97.910 %\n",
      "test_loss: 0.004\n",
      "epoch number 5\n",
      "train_accuracy: 98.088 %\n",
      "train_loss: 0.004\n",
      "test_accuracy: 98.170 %\n",
      "test_loss: 0.004\n",
      "Training OK!\n"
     ]
    }
   ],
   "source": [
    "#training process\n",
    "\n",
    "epoch_num = 5\n",
    "x1 = range(1,epoch_num+1)\n",
    "x2 = range(1,epoch_num+1)\n",
    "accuracy1 = []\n",
    "accuracy2 = []\n",
    "loss1 = []\n",
    "loss2 = []\n",
    "\n",
    "\n",
    "for epoch in range(epoch_num): \n",
    "#     running_loss = 0.0\n",
    "    for i, data in enumerate(train_loader, 0):\n",
    "        inputs, labels = data\n",
    "        \n",
    "        optimizer.zero_grad()     \n",
    "        outputs = net(inputs)\n",
    "        train_loss = criterion(outputs, labels)\n",
    "        train_loss.backward()\n",
    "        optimizer.step()\n",
    "        \n",
    "#         running_loss += train_loss.item()\n",
    "#         if i % 1000 == 999:    \n",
    "            \n",
    "#     print(\"epoch number:%d, train_loss: %.3f\" % (epoch + 1, running_loss / (len(train_loader)*batchsize) ))\n",
    "    # training accuracy and loss\n",
    "    \n",
    "    print(\"epoch number %d\" % (epoch + 1))\n",
    "    \n",
    "    correct = 0\n",
    "    total = 0\n",
    "    running_loss = 0\n",
    "    for data in train_loader:\n",
    "        images, labels = data\n",
    "        outputs = net(images)\n",
    "        \n",
    "        train_loss = criterion(outputs, labels)\n",
    "        running_loss += train_loss.item()\n",
    "        \n",
    "        _, predicted = torch.max(outputs, 1)\n",
    "        total += batchsize\n",
    "        correct += (predicted == labels).sum().item()\n",
    "       \n",
    "    print('train_accuracy: %.3f %%' % (100 * correct / total))\n",
    "    accuracy1.append(100 * correct / total)\n",
    "    print(\"train_loss: %.3f\" % (running_loss / (len(train_loader)*batchsize) ))\n",
    "    loss1.append(running_loss / (len(train_loader)*batchsize))\n",
    "    \n",
    "    # testing accuracy and loss\n",
    "    correct = 0\n",
    "    total = 0\n",
    "    running_loss = 0\n",
    "    for data in test_loader:\n",
    "        images, labels = data\n",
    "        outputs = net(images)\n",
    "        \n",
    "        test_loss = criterion(outputs, labels)\n",
    "        running_loss += test_loss.item()\n",
    "        \n",
    "        _, predicted = torch.max(outputs, 1)\n",
    "        total += batchsize\n",
    "        correct += (predicted == labels).sum().item()\n",
    "       \n",
    "    print('test_accuracy: %.3f %%' % (100 * correct / total))\n",
    "    accuracy2.append(100 * correct / total)\n",
    "    print(\"test_loss: %.3f\" % (running_loss / (len(test_loader)*batchsize) ))\n",
    "    loss2.append(running_loss / (len(test_loader)*batchsize))\n",
    "\n",
    "print(\"Training OK!\")\n",
    "\n",
    "\n",
    "\n"
   ]
  },
  {
   "cell_type": "code",
   "execution_count": 5,
   "metadata": {},
   "outputs": [
    {
     "data": {
      "image/png": "[encoded data removed]",
      "text/plain": [
       "<Figure size 432x288 with 1 Axes>"
      ]
     },
     "metadata": {},
     "output_type": "display_data"
    },
    {
     "data": {
      "image/png": "[encoded data removed]",
      "text/plain": [
       "<Figure size 432x288 with 1 Axes>"
      ]
     },
     "metadata": {},
     "output_type": "display_data"
    }
   ],
   "source": [
    "# visualize the result\n",
    "\n",
    "\n",
    "plt.plot(x1, accuracy1, label=\"training accuracy\")\n",
    "plt.plot(x2, accuracy2, label=\"testing accuracy\")\n",
    "plt.xlabel(\"epoch number\")\n",
    "plt.xticks(np.linspace(1,epoch_num,epoch_num))\n",
    "plt.ylabel(\"accuracy\")\n",
    "plt.title(\"accuracy graph\")\n",
    "plt.legend()\n",
    "plt.show()\n",
    "\n",
    "\n",
    "plt.plot(x1, loss1, label=\"training loss\")\n",
    "plt.plot(x2, loss2, label=\"testing loss\")\n",
    "plt.xlabel(\"epoch number\")\n",
    "plt.xticks(np.linspace(1,epoch_num,epoch_num))\n",
    "plt.ylabel(\"loss\")\n",
    "plt.title(\"loss graph\")\n",
    "plt.legend()\n",
    "plt.show()\n"
   ]
  },
  {
   "cell_type": "code",
   "execution_count": 6,
   "metadata": {},
   "outputs": [
    {
     "name": "stdout",
     "output_type": "stream",
     "text": [
      "test_loss: 0.053\n",
      "test_loss: 0.014\n",
      "test_loss: 0.037\n",
      "test_loss: 0.037\n",
      "test_loss: 0.053\n",
      "test_loss: 0.047\n",
      "test_loss: 0.047\n",
      "test_loss: 0.083\n",
      "test_loss: 0.161\n",
      "test_loss: 0.057\n"
     ]
    }
   ],
   "source": [
    "# the loss for different numbers \n",
    "\n",
    "single_loader = torch.utils.data.DataLoader(test_dataset, batch_size=1,\n",
    "                                          shuffle=True, num_workers=2)\n",
    "correct = 0\n",
    "total = 0\n",
    "running_loss = [0]*10\n",
    "number_cnt = [0]*10\n",
    "for data in single_loader:\n",
    "    images, labels = data\n",
    "    outputs = net(images)\n",
    "    test_loss = criterion(outputs, labels)\n",
    "    running_loss[labels] += test_loss.item()\n",
    "    number_cnt[labels] += 1\n",
    "    \n",
    "num_loss = []\n",
    "for i in range(10):\n",
    "    num_loss.append(running_loss[i] / number_cnt[i])\n",
    "    print(\"test_loss: %.3f\" % (running_loss[i] / number_cnt[i]))"
   ]
  },
  {
   "cell_type": "code",
   "execution_count": 7,
   "metadata": {},
   "outputs": [
    {
     "data": {
      "image/png": "[encoded data removed]",
      "text/plain": [
       "<Figure size 432x288 with 1 Axes>"
      ]
     },
     "metadata": {},
     "output_type": "display_data"
    }
   ],
   "source": [
    "#visualize the result\n",
    "\n",
    "num = range(0,10)\n",
    "plt.bar(num, num_loss)\n",
    "\n",
    "plt.xlabel(\"number\")\n",
    "plt.xticks(np.linspace(0,9,10))\n",
    "plt.ylabel(\"loss\")\n",
    "plt.title(\"number-loss graph\")\n",
    "\n",
    "plt.show()"
   ]
  },
  {
   "cell_type": "code",
   "execution_count": 9,
   "metadata": {},
   "outputs": [
    {
     "name": "stdout",
     "output_type": "stream",
     "text": [
      "ground truth:  1 predicted result:  2\n"
     ]
    },
    {
     "data": {
      "image/png": "[encoded data removed]",
      "text/plain": [
       "<Figure size 432x288 with 1 Axes>"
      ]
     },
     "metadata": {},
     "output_type": "display_data"
    }
   ],
   "source": [
    "# find incorrect detection result\n",
    "\n",
    "single_loader = torch.utils.data.DataLoader(test_dataset, batch_size=1,\n",
    "                                          shuffle=True, num_workers=2)\n",
    "\n",
    "for data in single_loader:\n",
    "    images, labels = data\n",
    "    outputs = net(images)\n",
    "    _, predicted = torch.max(outputs, 1)\n",
    "    \n",
    "    if predicted != labels:\n",
    "        plt.imshow(images.squeeze(), cmap = \"gray\")\n",
    "        print(\"ground truth: \", labels.item(), \"predicted result: \", predicted.item())\n",
    "        break\n",
    "        \n",
    "\n",
    "    \n"
   ]
  },
  {
   "cell_type": "code",
   "execution_count": null,
   "metadata": {},
   "outputs": [],
   "source": []
  },
  {
   "cell_type": "code",
   "execution_count": null,
   "metadata": {},
   "outputs": [],
   "source": []
  },
  {
   "cell_type": "code",
   "execution_count": null,
   "metadata": {},
   "outputs": [],
   "source": []
  }
 ],
 "metadata": {
  "kernelspec": {
   "display_name": "Python 3",
   "language": "python",
   "name": "python3"
  },
  "language_info": {
   "codemirror_mode": {
    "name": "ipython",
    "version": 3
   },
   "file_extension": ".py",
   "mimetype": "text/x-python",
   "name": "python",
   "nbconvert_exporter": "python",
   "pygments_lexer": "ipython3",
   "version": "3.6.5"
  }
 },
 "nbformat": 4,
 "nbformat_minor": 2
}
