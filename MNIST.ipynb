{
 "cells": [
  {
   "cell_type": "code",
   "execution_count": 75,
   "metadata": {},
   "outputs": [],
   "source": [
    "#things to be import\n",
    "\n",
    "import torch\n",
    "import torch.nn as nn\n",
    "import torch.nn.functional as func\n",
    "import torch.autograd as atgd\n",
    "import torch.optim as optim\n",
    "import torchvision\n",
    "import torchvision.transforms as transforms\n",
    "import matplotlib.pyplot as plt\n",
    "import numpy as np\n",
    "import scipy.io as sio"
   ]
  },
  {
   "cell_type": "code",
   "execution_count": 2,
   "metadata": {},
   "outputs": [
    {
     "name": "stdout",
     "output_type": "stream",
     "text": [
      "The number of training images:  10000\n",
      "The number of testing images:  10000\n",
      "Data load OK!\n"
     ]
    }
   ],
   "source": [
    "#loading training and testing data\n",
    "\n",
    "batchsize = 16\n",
    "Trainsize = 10000\n",
    "Testsize = 10000\n",
    "\n",
    "transform = transforms.Compose(\n",
    "    [\n",
    "    transforms.Resize((32,32)),    \n",
    "    transforms.ToTensor(),\n",
    "    ])\n",
    "\n",
    "train_dataset = torchvision.datasets.MNIST(root = './data/mnist', \n",
    "                           train = True, \n",
    "                           transform = transform,\n",
    "                           download = True) \n",
    "test_dataset = torchvision.datasets.MNIST(root = './data/mnist',\n",
    "                           train = False,\n",
    "                           transform = transform,\n",
    "                           download = True)\n",
    "\n",
    "train_loader = torch.utils.data.DataLoader(train_dataset, batch_size=batchsize,\n",
    "                                          shuffle=True, num_workers=1)\n",
    "test_loader = torch.utils.data.DataLoader(train_dataset, batch_size=batchsize,\n",
    "                                          shuffle=True, num_workers=1)\n",
    "\n",
    "print(\"The number of training images: \", Trainsize)\n",
    "print(\"The number of testing images: \", Testsize)\n",
    "print(\"Data load OK!\")"
   ]
  },
  {
   "cell_type": "code",
   "execution_count": 3,
   "metadata": {},
   "outputs": [
    {
     "name": "stdout",
     "output_type": "stream",
     "text": [
      "Net(\n",
      "  (conv1): Conv2d(1, 8, kernel_size=(5, 5), stride=(1, 1))\n",
      "  (conv2): Conv2d(8, 16, kernel_size=(5, 5), stride=(1, 1))\n",
      "  (pool): MaxPool2d(kernel_size=2, stride=2, padding=0, dilation=1, ceil_mode=False)\n",
      "  (fc1): Linear(in_features=400, out_features=10, bias=True)\n",
      ")\n"
     ]
    }
   ],
   "source": [
    "#Network structure\n",
    "\n",
    "# # linear classifier\n",
    "# class Net(nn.Module):\n",
    "#     def __init__(self):\n",
    "#         super(Net, self).__init__()\n",
    "#         self.fc1 = nn.Linear(32*32, 10)\n",
    "#     def forward(self, x):\n",
    "#         x = x.view(-1, 32 * 32)\n",
    "#         x= self.fc1(x)  \n",
    "#         return x\n",
    "\n",
    "# # Network with only fc layers \n",
    "# class Net(nn.Module):\n",
    "#     def __init__(self):\n",
    "#         super(Net, self).__init__()\n",
    "#         self.fc1 = nn.Linear(32*32, 16*16)\n",
    "#         self.fc2 = nn.Linear(16*16, 8*8)\n",
    "#         self.fc3 = nn.Linear(8*8, 10)\n",
    "\n",
    "#     def forward(self, x):\n",
    "#         x = x.view(-1, 32 * 32)\n",
    "#         x = func.relu(self.fc1(x))\n",
    "#         x = func.relu(self.fc2(x))\n",
    "#         x = self.fc3(x)\n",
    "#         return x\n",
    "\n",
    "# Network with 2 Conv2, 3fc\n",
    "class Net(nn.Module):\n",
    "    def __init__(self):\n",
    "        super(Net, self).__init__()\n",
    "        self.conv1 = nn.Conv2d(1, 8, 5)\n",
    "        self.conv2 = nn.Conv2d(8, 16, 5)\n",
    "        self.pool = nn.MaxPool2d(2, 2)\n",
    "        self.fc1 = nn.Linear(16*5*5, 10)\n",
    "        \n",
    "#         self.after_conv1 = torch.Tensor()\n",
    "#         self.after_conv2 = torch.Tensor()\n",
    "#         self.after_pool1 = torch.Tensor()\n",
    "#         self.after_pool2 = torch.Tensor()\n",
    "#         self.after_conv3 = torch.Tensor()\n",
    "        \n",
    "    def forward(self, x):\n",
    "        x = func.relu(self.conv1(x))\n",
    "        self.after_conv1 = x\n",
    "        x = self.pool(x)\n",
    "        self.after_pool1 = x\n",
    "        \n",
    "        x = func.relu(self.conv2(x))\n",
    "        self.after_conv2 = x\n",
    "        x = self.pool(x)\n",
    "        self.after_pool2 = x\n",
    "        \n",
    "        x = x.view(-1, 16 * 5 * 5)\n",
    "        x = self.fc1(x)\n",
    "\n",
    "        return x\n",
    "\n",
    "\n",
    "# # Network with 2 Conv2, 3fc\n",
    "# class Net(nn.Module):\n",
    "#     def __init__(self):\n",
    "#         super(Net, self).__init__()\n",
    "#         self.conv1 = nn.Conv2d(1, 6, 5)\n",
    "#         self.pool = nn.MaxPool2d(2, 2)\n",
    "#         self.conv2 = nn.Conv2d(6, 16, 5)\n",
    "#         self.fc1 = nn.Linear(16 * 5 * 5, 120)\n",
    "#         self.fc2 = nn.Linear(120, 84)\n",
    "#         self.fc3 = nn.Linear(84, 10)\n",
    "\n",
    "#     def forward(self, x):\n",
    "#         x = self.pool(func.relu(self.conv1(x)))\n",
    "#         x = self.pool(func.relu(self.conv2(x)))\n",
    "#         x = x.view(-1, 16 * 5 * 5)\n",
    "#         x = func.relu(self.fc1(x))\n",
    "#         x = func.relu(self.fc2(x))\n",
    "#         x = self.fc3(x)\n",
    "#         return x\n",
    "\n",
    "net = Net()\n",
    "net = net.cuda()\n",
    "print(net)\n",
    "\n",
    "criterion = nn.CrossEntropyLoss()\n",
    "optimizer = optim.SGD(net.parameters(), lr=0.001, momentum=0.9)"
   ]
  },
  {
   "cell_type": "code",
   "execution_count": 4,
   "metadata": {},
   "outputs": [
    {
     "name": "stdout",
     "output_type": "stream",
     "text": [
      "epoch number 1\n",
      "train_accuracy: 88.780 %\n",
      "train_loss: 0.023\n",
      "test_accuracy: 89.020 %\n",
      "test_loss: 0.022\n",
      "epoch number 2\n",
      "train_accuracy: 93.710 %\n",
      "train_loss: 0.014\n",
      "test_accuracy: 93.750 %\n",
      "test_loss: 0.014\n",
      "epoch number 3\n",
      "train_accuracy: 94.620 %\n",
      "train_loss: 0.012\n",
      "test_accuracy: 94.660 %\n",
      "test_loss: 0.012\n",
      "epoch number 4\n",
      "train_accuracy: 94.710 %\n",
      "train_loss: 0.010\n",
      "test_accuracy: 94.620 %\n",
      "test_loss: 0.011\n",
      "epoch number 5\n",
      "train_accuracy: 95.720 %\n",
      "train_loss: 0.009\n",
      "test_accuracy: 95.700 %\n",
      "test_loss: 0.009\n",
      "Training OK!\n"
     ]
    }
   ],
   "source": [
    "#training process\n",
    "\n",
    "epoch_num = 5\n",
    "x1 = range(1,epoch_num+1)\n",
    "x2 = range(1,epoch_num+1)\n",
    "accuracy1 = []\n",
    "accuracy2 = []\n",
    "loss1 = []\n",
    "loss2 = []\n",
    "\n",
    "#the main training process \n",
    "for epoch in range(epoch_num): \n",
    "    for i, data in enumerate(train_loader, 0):\n",
    "        \n",
    "        if i >= Trainsize/batchsize:\n",
    "            break        \n",
    "        inputs, labels = data  \n",
    "        \n",
    "        inputs = inputs.cuda()\n",
    "        labels = labels.cuda()\n",
    "        \n",
    "        optimizer.zero_grad()     \n",
    "        outputs = net(inputs)\n",
    "        train_loss = criterion(outputs, labels)\n",
    "        train_loss.backward()\n",
    "        optimizer.step()\n",
    "\n",
    "    # training accuracy and loss\n",
    "    print(\"epoch number %d\" % (epoch + 1))\n",
    "    \n",
    "    correct = 0\n",
    "    total = 0\n",
    "    running_loss = 0\n",
    "    for i, data in enumerate(train_loader, 0):\n",
    "        if i >= Trainsize/batchsize:\n",
    "            break\n",
    "        \n",
    "        images, labels = data\n",
    "        images = images.cuda()\n",
    "        labels = labels.cuda()\n",
    "        outputs = net(images)\n",
    "        \n",
    "        train_loss = criterion(outputs, labels)\n",
    "        running_loss += train_loss.item()\n",
    "        \n",
    "        _, predicted = torch.max(outputs, 1)\n",
    "        total += batchsize\n",
    "        correct += (predicted == labels).sum().item()\n",
    "       \n",
    "    print('train_accuracy: %.3f %%' % (100 * correct / total))\n",
    "    accuracy1.append(100 * correct / total)\n",
    "    print(\"train_loss: %.3f\" % (running_loss / Trainsize) )\n",
    "    loss1.append(running_loss / Trainsize)\n",
    "    \n",
    "    # testing accuracy and loss\n",
    "    correct = 0\n",
    "    total = 0\n",
    "    running_loss = 0\n",
    "    for i, data in enumerate(test_loader, 0):\n",
    "        if i >= Testsize/batchsize:\n",
    "            break\n",
    "        images, labels = data\n",
    "        images = images.cuda()\n",
    "        labels = labels.cuda()\n",
    "        outputs = net(images)\n",
    "      \n",
    "        \n",
    "        test_loss = criterion(outputs, labels)\n",
    "        running_loss += test_loss.item()\n",
    "        \n",
    "        _, predicted = torch.max(outputs, 1)\n",
    "        total += batchsize\n",
    "        correct += (predicted == labels).sum().item()\n",
    "       \n",
    "    print('test_accuracy: %.3f %%' % (100 * correct / total))\n",
    "    accuracy2.append(100 * correct / total)\n",
    "    print(\"test_loss: %.3f\" % (running_loss / Testsize))\n",
    "    loss2.append(running_loss / Testsize)\n",
    "\n",
    "print(\"Training OK!\")\n"
   ]
  },
  {
   "cell_type": "code",
   "execution_count": 5,
   "metadata": {},
   "outputs": [
    {
     "data": {
      "image/png": "[encoded data removed]",
      "text/plain": [
       "<Figure size 432x288 with 1 Axes>"
      ]
     },
     "metadata": {},
     "output_type": "display_data"
    },
    {
     "data": {
      "image/png": "[encoded data removed]",
      "text/plain": [
       "<Figure size 432x288 with 1 Axes>"
      ]
     },
     "metadata": {},
     "output_type": "display_data"
    }
   ],
   "source": [
    "# visualize the result\n",
    "\n",
    "plt.plot(x1, accuracy1, label=\"training accuracy\")\n",
    "plt.plot(x2, accuracy2, label=\"testing accuracy\")\n",
    "plt.xlabel(\"epoch number\")\n",
    "plt.xticks(np.linspace(1,epoch_num,epoch_num))\n",
    "plt.ylabel(\"accuracy\")\n",
    "plt.title(\"accuracy graph\")\n",
    "plt.legend()\n",
    "plt.show()\n",
    "\n",
    "\n",
    "plt.plot(x1, loss1, label=\"training loss\")\n",
    "plt.plot(x2, loss2, label=\"testing loss\")\n",
    "plt.xlabel(\"epoch number\")\n",
    "plt.xticks(np.linspace(1,epoch_num,epoch_num))\n",
    "plt.ylabel(\"loss\")\n",
    "plt.title(\"loss graph\")\n",
    "plt.legend()\n",
    "plt.show()\n"
   ]
  },
  {
   "cell_type": "code",
   "execution_count": 6,
   "metadata": {},
   "outputs": [
    {
     "name": "stdout",
     "output_type": "stream",
     "text": [
      "test_acc: 99.286\n",
      "test_acc: 99.031\n",
      "test_acc: 95.833\n",
      "test_acc: 95.149\n",
      "test_acc: 98.167\n",
      "test_acc: 96.188\n",
      "test_acc: 94.363\n",
      "test_acc: 94.553\n",
      "test_acc: 94.251\n",
      "test_acc: 92.468\n"
     ]
    }
   ],
   "source": [
    "# the acc for different numbers \n",
    "\n",
    "single_loader = torch.utils.data.DataLoader(test_dataset, batch_size=1,\n",
    "                                          shuffle=True, num_workers=2)\n",
    "correct = [0.0]*10\n",
    "total = [0.0]*10\n",
    "for data in single_loader:\n",
    "    images, labels = data \n",
    "    images = images.cuda()\n",
    "    labels = labels.cuda()\n",
    "    \n",
    "    outputs = net(images)\n",
    "    _, predicted = torch.max(outputs, 1)\n",
    "    total[labels] += 1\n",
    "    correct[labels] += (predicted == labels).sum().item()  \n",
    "    \n",
    "num_acc = []\n",
    "for i in range(10):\n",
    "    num_acc.append(100*correct[i]  / total[i])\n",
    "    print(\"test_acc: %.3f\" % (100*correct[i]  / total[i]))"
   ]
  },
  {
   "cell_type": "code",
   "execution_count": 7,
   "metadata": {},
   "outputs": [
    {
     "data": {
      "image/png": "[encoded data removed]",
      "text/plain": [
       "<Figure size 432x288 with 1 Axes>"
      ]
     },
     "metadata": {},
     "output_type": "display_data"
    }
   ],
   "source": [
    "#visualize the result\n",
    "\n",
    "num = range(0,10)\n",
    "plt.bar(num, num_acc)\n",
    "\n",
    "plt.xlabel(\"number\")\n",
    "plt.ylim((85,100))\n",
    "plt.xticks(np.linspace(0,9,10))\n",
    "plt.ylabel(\"accuracy\")\n",
    "plt.title(\"number-acc graph\")\n",
    "\n",
    "plt.show()"
   ]
  },
  {
   "cell_type": "code",
   "execution_count": 9,
   "metadata": {},
   "outputs": [
    {
     "name": "stdout",
     "output_type": "stream",
     "text": [
      "ground truth:  5 predicted result:  4\n"
     ]
    },
    {
     "data": {
      "image/png": "[encoded data removed]",
      "text/plain": [
       "<Figure size 432x288 with 1 Axes>"
      ]
     },
     "metadata": {},
     "output_type": "display_data"
    }
   ],
   "source": [
    "# find incorrect detection result\n",
    "\n",
    "single_loader = torch.utils.data.DataLoader(test_dataset, batch_size=1,\n",
    "                                          shuffle=True, num_workers=2)\n",
    "\n",
    "\n",
    "for data in single_loader:\n",
    "    images, labels = data\n",
    "    images = images.cuda()\n",
    "    labels = labels.cuda()\n",
    "    \n",
    "    \n",
    "    outputs = net(images)\n",
    "    _, predicted = torch.max(outputs, 1)\n",
    "    \n",
    "    if predicted != labels:\n",
    "        plt.imshow(images.squeeze(), cmap = \"gray\")\n",
    "        print(\"ground truth: \", labels.item(), \"predicted result: \", predicted.item())\n",
    "        break\n",
    "        \n",
    "\n",
    "    \n"
   ]
  },
  {
   "cell_type": "code",
   "execution_count": 10,
   "metadata": {},
   "outputs": [
    {
     "data": {
      "image/png": "[encoded data removed]",
      "text/plain": [
       "<Figure size 432x288 with 1 Axes>"
      ]
     },
     "metadata": {},
     "output_type": "display_data"
    }
   ],
   "source": [
    "# output the confusion matrix \n",
    "\n",
    "single_loader = torch.utils.data.DataLoader(test_dataset, batch_size=1,\n",
    "                                          shuffle=True, num_workers=2)\n",
    "cells = [([0]*10)for i in range(10)]\n",
    "\n",
    "for data in single_loader:\n",
    "    images, labels = data\n",
    "    images = images.cuda()\n",
    "    labels = labels.cuda()\n",
    "    \n",
    "    outputs = net(images)\n",
    "    _, predicted = torch.max(outputs, 1)\n",
    "\n",
    "    cells[predicted.item()][labels.item()] += 1\n",
    "\n",
    "\n",
    "labels_num = [i for i in range(10)]\n",
    "predicted_num = [i for i in range(10)]\n",
    "\n",
    "\n",
    "plt.subplot2grid((4,3), (0,0), colspan=5, rowspan=3)\n",
    "plt.axis(\"off\")\n",
    "plt.table(rowLabels = predicted_num, colLabels = labels_num ,cellText = cells,loc=\"upper center\",\n",
    "         colWidths= [0.1]*10)\n",
    "plt.title(\"Confusion matrix\")\n",
    "plt.show()\n"
   ]
  },
  {
   "cell_type": "code",
   "execution_count": 72,
   "metadata": {},
   "outputs": [
    {
     "name": "stdout",
     "output_type": "stream",
     "text": [
      "tensor([[-3.9528,  1.3103,  2.5121,  2.3657,  1.6993, -0.8470, -3.9609,\n",
      "          2.6690,  1.3216,  2.2885]], device='cuda:0')\n",
      "torch.Size([1, 8, 28, 28])\n"
     ]
    },
    {
     "data": {
      "image/png": "[encoded data removed]",
      "text/plain": [
       "<Figure size 432x288 with 1 Axes>"
      ]
     },
     "metadata": {},
     "output_type": "display_data"
    },
    {
     "data": {
      "image/png": "[encoded data removed]",
      "text/plain": [
       "<Figure size 432x288 with 1 Axes>"
      ]
     },
     "metadata": {},
     "output_type": "display_data"
    },
    {
     "data": {
      "image/png": "[encoded data removed]",
      "text/plain": [
       "<Figure size 432x288 with 1 Axes>"
      ]
     },
     "metadata": {},
     "output_type": "display_data"
    },
    {
     "data": {
      "image/png": "[encoded data removed]",
      "text/plain": [
       "<Figure size 432x288 with 1 Axes>"
      ]
     },
     "metadata": {},
     "output_type": "display_data"
    },
    {
     "data": {
      "image/png": "[encoded data removed]",
      "text/plain": [
       "<Figure size 432x288 with 1 Axes>"
      ]
     },
     "metadata": {},
     "output_type": "display_data"
    },
    {
     "data": {
      "image/png": "[encoded data removed]",
      "text/plain": [
       "<Figure size 432x288 with 1 Axes>"
      ]
     },
     "metadata": {},
     "output_type": "display_data"
    },
    {
     "data": {
      "image/png": "[encoded data removed]",
      "text/plain": [
       "<Figure size 432x288 with 1 Axes>"
      ]
     },
     "metadata": {},
     "output_type": "display_data"
    },
    {
     "data": {
      "image/png": "[encoded data removed]",
      "text/plain": [
       "<Figure size 432x288 with 1 Axes>"
      ]
     },
     "metadata": {},
     "output_type": "display_data"
    },
    {
     "data": {
      "image/png": "[encoded data removed]",
      "text/plain": [
       "<Figure size 432x288 with 1 Axes>"
      ]
     },
     "metadata": {},
     "output_type": "display_data"
    }
   ],
   "source": [
    "# output the hidden layers \n",
    "single_loader = torch.utils.data.DataLoader(test_dataset, batch_size=1,\n",
    "                                          shuffle=True, num_workers=1)\n",
    "\n",
    "\n",
    "for data in single_loader:\n",
    "    images, labels = data\n",
    "    images = images.cuda()\n",
    "    labels = labels.cuda()\n",
    "    \n",
    "    plt.figure(0)\n",
    "    plt.imshow((images.squeeze()), cmap = \"gray\")\n",
    "    outputs = net(images)\n",
    "    \n",
    "#     plt.figure(1)\n",
    "#     num = range(0,10)\n",
    "#     plt.bar(num, outputs.squeeze().detach())\n",
    "#     plt.show()\n",
    "    \n",
    "    print(outputs)\n",
    "    print(net.after_conv1.size())\n",
    "    \n",
    "    for i in range(0,8):\n",
    "        plt.figure(i+1)\n",
    "        plt.imshow(net.after_conv1.squeeze().detach()[i], cmap = \"gray\")\n",
    "    break"
   ]
  },
  {
   "cell_type": "code",
   "execution_count": 82,
   "metadata": {},
   "outputs": [],
   "source": [
    "weight = dict()\n",
    "weight['conv1_w'] = net._modules['conv1']._parameters['weight'].data.cpu().numpy()\n",
    "weight['conv2_w'] = net._modules['conv2']._parameters['weight'].data.cpu().numpy()\n",
    "weight['fc_w'] = net._modules['fc1']._parameters['weight'].data.cpu().numpy()\n",
    "\n",
    "weight['conv1_b'] = net._modules['conv1']._parameters['bias'].data.cpu().numpy()\n",
    "weight['conv2_b'] = net._modules['conv2']._parameters['bias'].data.cpu().numpy()\n",
    "weight['fc_b'] = net._modules['fc1']._parameters['bias'].data.cpu().numpy()\n",
    "\n",
    "sio.savemat('mnist_module.mat', mdict=weight)"
   ]
  },
  {
   "cell_type": "code",
   "execution_count": 85,
   "metadata": {},
   "outputs": [
    {
     "name": "stdout",
     "output_type": "stream",
     "text": [
      "[[[[-1.42358154e-01  2.34580427e-01  6.62880316e-02 -1.56730548e-01\n",
      "    -7.34391734e-02]\n",
      "   [ 1.27940044e-01  1.97851196e-01 -1.57420442e-01  4.89573330e-02\n",
      "    -1.48606405e-01]\n",
      "   [-4.69616130e-02  5.24618896e-03  1.09200433e-01 -3.12144291e-02\n",
      "     1.46433581e-02]\n",
      "   [-7.60082081e-02  6.94020465e-03 -1.51787743e-01 -8.30911621e-02\n",
      "    -2.34890115e-02]\n",
      "   [ 1.50805339e-03  8.36447626e-02 -2.05039665e-01  1.29740670e-01\n",
      "    -2.47920290e-01]]]\n",
      "\n",
      "\n",
      " [[[ 7.63012320e-02 -7.78882504e-02  1.23223402e-01  1.84205487e-01\n",
      "     1.77298505e-02]\n",
      "   [ 1.06014036e-01 -1.50886774e-01  5.58609627e-02 -1.24111054e-02\n",
      "     2.11124010e-02]\n",
      "   [-4.11276519e-03 -1.40148491e-01  9.18719992e-02  2.06827328e-01\n",
      "    -1.14412531e-01]\n",
      "   [-1.13224164e-01 -1.68209642e-01  1.63292333e-01 -1.34648874e-01\n",
      "    -5.01799360e-02]\n",
      "   [ 6.34708721e-03 -4.88995239e-02  1.61228672e-01  1.57117739e-01\n",
      "    -1.64107308e-01]]]\n",
      "\n",
      "\n",
      " [[[ 1.84626430e-01 -2.46390775e-02  1.07104704e-01  3.37329358e-01\n",
      "     3.53719920e-01]\n",
      "   [ 6.63079917e-02  7.71996826e-02 -5.38789220e-02  3.50247789e-03\n",
      "     1.03818797e-01]\n",
      "   [-1.68425832e-02  1.59572840e-01  1.62971064e-01 -1.24135636e-01\n",
      "     2.57954925e-01]\n",
      "   [-2.20520720e-01  2.32063364e-02 -1.82950988e-01  1.18947402e-01\n",
      "     4.91798818e-02]\n",
      "   [ 5.30613475e-02 -7.32162222e-02 -2.72407562e-01 -2.13914648e-01\n",
      "    -1.02288507e-01]]]\n",
      "\n",
      "\n",
      " [[[-7.86068216e-02 -7.61226863e-02 -1.25413582e-01 -1.21170476e-01\n",
      "     1.10419422e-01]\n",
      "   [ 1.56714708e-01 -2.98427287e-02  3.23593497e-01  4.17257547e-01\n",
      "     2.08175823e-01]\n",
      "   [ 2.91778415e-01  3.97344947e-01  4.98039484e-01  4.09352183e-01\n",
      "     4.25664425e-01]\n",
      "   [-3.71005415e-04  1.40205383e-01  3.06039661e-01  3.85598451e-01\n",
      "     9.52279791e-02]\n",
      "   [-1.65024966e-01  5.09901010e-02  2.76800960e-01  1.88406318e-01\n",
      "    -1.70096792e-02]]]\n",
      "\n",
      "\n",
      " [[[ 9.22048092e-02 -1.21795721e-01  1.43121347e-01 -9.48772356e-02\n",
      "     5.43224625e-02]\n",
      "   [-1.29761755e-01 -6.30267411e-02 -1.78942338e-01  1.66595459e-01\n",
      "    -1.02253668e-01]\n",
      "   [-1.46160677e-01  8.88093710e-02 -1.72282800e-01 -4.50784862e-02\n",
      "     1.09549932e-01]\n",
      "   [-1.52108952e-01 -1.18599713e-01  7.15785623e-02 -2.89003514e-02\n",
      "     7.47741759e-02]\n",
      "   [ 4.57827635e-02 -2.13808380e-02  1.03820570e-01 -6.94958568e-02\n",
      "    -1.98997483e-01]]]\n",
      "\n",
      "\n",
      " [[[-5.04334159e-02  1.80189446e-01  3.52527827e-01  2.04703331e-01\n",
      "    -1.43876206e-02]\n",
      "   [ 5.00661060e-02  3.33448857e-01  2.87340373e-01  4.47566926e-01\n",
      "     7.69722313e-02]\n",
      "   [ 1.82024404e-01  3.47204775e-01  4.91841674e-01  4.13076431e-01\n",
      "     3.80634010e-01]\n",
      "   [ 4.07863781e-02  9.97784287e-02  3.62133056e-01  2.90649116e-01\n",
      "     2.39407197e-01]\n",
      "   [-8.93471166e-02 -8.08278248e-02  1.47577688e-01 -1.17138483e-01\n",
      "    -1.29137054e-01]]]\n",
      "\n",
      "\n",
      " [[[ 2.05146164e-01  2.21260816e-01  1.23746872e-01  1.62533578e-02\n",
      "     4.21288870e-02]\n",
      "   [ 2.90973991e-01  4.25065726e-01  4.33463633e-01  1.98949993e-01\n",
      "     1.46908075e-01]\n",
      "   [ 2.60905057e-01  1.81228459e-01  5.06005049e-01  2.88796395e-01\n",
      "     3.58848333e-01]\n",
      "   [ 2.27631912e-01  3.07366580e-01  1.67291507e-01  2.61251837e-01\n",
      "     3.08330119e-01]\n",
      "   [ 2.14180857e-01  1.63510919e-01  1.74162552e-01 -9.08634216e-02\n",
      "     2.48603001e-01]]]\n",
      "\n",
      "\n",
      " [[[ 4.24887873e-02  2.86848168e-03  8.88183191e-02  9.87612233e-02\n",
      "     4.47149016e-02]\n",
      "   [-5.73694818e-02  2.25920640e-02 -1.65902957e-01  1.82448298e-01\n",
      "    -1.48330361e-01]\n",
      "   [-1.61772907e-01 -4.63148095e-02 -1.32623479e-01  1.92890897e-01\n",
      "    -4.52286154e-02]\n",
      "   [ 1.40442967e-01 -2.03175142e-01  6.65460527e-02 -9.87060964e-02\n",
      "     9.99469459e-02]\n",
      "   [ 2.88429931e-02 -1.00163938e-02 -1.11478873e-01 -1.98603153e-01\n",
      "    -5.57546355e-02]]]]\n"
     ]
    }
   ],
   "source": [
    "data = sio.loadmat(\"mnist_module.mat\") \n",
    "print(data['conv1_w'])"
   ]
  },
  {
   "cell_type": "code",
   "execution_count": null,
   "metadata": {},
   "outputs": [],
   "source": []
  }
 ],
 "metadata": {
  "kernelspec": {
   "display_name": "Python 3",
   "language": "python",
   "name": "python3"
  },
  "language_info": {
   "codemirror_mode": {
    "name": "ipython",
    "version": 3
   },
   "file_extension": ".py",
   "mimetype": "text/x-python",
   "name": "python",
   "nbconvert_exporter": "python",
   "pygments_lexer": "ipython3",
   "version": "3.6.5"
  }
 },
 "nbformat": 4,
 "nbformat_minor": 2
}
